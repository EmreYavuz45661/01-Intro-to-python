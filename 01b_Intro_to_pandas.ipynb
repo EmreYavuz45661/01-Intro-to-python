{
 "cells": [
  {
   "cell_type": "markdown",
   "metadata": {
    "colab_type": "text",
    "id": "view-in-github"
   },
   "source": [
    "<a href=\"https://colab.research.google.com/github/bwsi-hadr/01-Intro-to-python/blob/master/01b_Intro_to_pandas.ipynb\" target=\"_parent\"><img src=\"https://colab.research.google.com/assets/colab-badge.svg\" alt=\"Open In Colab\"/></a>"
   ]
  },
  {
   "cell_type": "markdown",
   "metadata": {
    "colab_type": "text",
    "id": "UOdABkMSfs4V"
   },
   "source": [
    "# Introduction to Pandas\n",
    "\n",
    "Pandas is a package built on top of numpy which incorporates many additional features which make it more convenient for data analysis. One main addition is the inclusion of row and column labels, which make pandas function much like spreadsheet software. It also includes tools for much more complex computations than regular numpy allows"
   ]
  },
  {
   "cell_type": "code",
   "execution_count": null,
   "metadata": {
    "colab": {},
    "colab_type": "code",
    "id": "mY4fJ6gPecjh"
   },
   "outputs": [],
   "source": [
    "import pandas as pd\n",
    "import numpy as np\n",
    "# by default, pandas only shows the beginning and end of a large dataframe\n",
    "# here we set it to None so that we see all of the dataframe\n",
    "# change this to an integer to limit the number of elements it displays\n",
    "pd.options.display.max_rows = None "
   ]
  },
  {
   "cell_type": "markdown",
   "metadata": {
    "colab_type": "text",
    "id": "uIEY6HPiMNrH"
   },
   "source": [
    "## Importing data\n",
    "There are a lot of built-in functions for importing data to pandas, for example, from files, database, and web sources. For a full list of the supported methods, see [the documentation on pandas](https://pandas.pydata.org/pandas-docs/stable/user_guide/io.html).\n",
    "\n",
    "In this example, we're going to load data formatted as a csv from a website URL. In particular, it is a direct link to a file hosted in our course github repository.\n",
    "\n",
    "The data we're loading is a simplified pokedex which includes the number, name, base stats, types, abilities, and colors of each pokemon. We'll be using this data to explore the functionality of pandas. \n",
    "\n",
    "The primary class of pandas is the DataFrame, which functions like a spreadsheet (like in excel). It allows for named rows and columns. Data types between two different columns can vary, but entries within the same column should have the same type. "
   ]
  },
  {
   "cell_type": "code",
   "execution_count": null,
   "metadata": {
    "colab": {
     "base_uri": "https://localhost:8080/",
     "height": 1000
    },
    "colab_type": "code",
    "id": "Vw70sllWekUv",
    "outputId": "256b40d7-e2f3-49e1-ec48-8214a34609ae"
   },
   "outputs": [],
   "source": [
    "# URL for data\n",
    "pokedex_url = 'https://raw.githubusercontent.com/bwsi-hadr/01-Intro-to-python/master/pokedex.csv?token=AK6STNOT3VACKCD37B6THDK5DYG4M' \n",
    "# instead of a url, you could instead put a path to a csv file on the local system where python is running. However, since colab is on the cloud, it's easier to use a url\n",
    "pokedex_df = pd.read_csv(pokedex_url, index_col='Index') # create a dataframe from a csv, set the column titled \"Index\" as the row labels\n",
    "\n",
    "pokedex_df = pokedex_df.fillna('') #fill in the NaN values with empty string \n",
    "pokedex_df # prints out the dataframe"
   ]
  },
  {
   "cell_type": "markdown",
   "metadata": {
    "colab_type": "text",
    "id": "pjva-LjOYIi-"
   },
   "source": [
    "## Indexing\n",
    "Like numpy, you can index a dataframe to select elements or subsets of entries. There are a number of ways to index pandas dataframes. The two following methods are recommended:\n",
    "`.loc[]` and `.iloc[]`"
   ]
  },
  {
   "cell_type": "markdown",
   "metadata": {
    "colab_type": "text",
    "id": "TqPYnBl0abaF"
   },
   "source": [
    "### .loc[ ] name-based indexing\n",
    "The first way, using `.loc[a,b]` indexes based on the __values__ of the row index and column names. This allows us to get entries where the row index value equals `a` and the column name equals `b`."
   ]
  },
  {
   "cell_type": "code",
   "execution_count": null,
   "metadata": {
    "colab": {
     "base_uri": "https://localhost:8080/",
     "height": 298
    },
    "colab_type": "code",
    "id": "7h9DjlXbY6d7",
    "outputId": "e11c57d5-d313-4205-fb60-3d1f1c1745ff"
   },
   "outputs": [],
   "source": [
    "# Get the entry for index value 745.1 - Lycanroc (midnight)\n",
    "pokedex_df.loc[745.1]"
   ]
  },
  {
   "cell_type": "code",
   "execution_count": null,
   "metadata": {
    "colab": {
     "base_uri": "https://localhost:8080/",
     "height": 92
    },
    "colab_type": "code",
    "id": "-kUidZE-gZkS",
    "outputId": "c09ac41f-5736-4313-fb90-ce30a192abf2"
   },
   "outputs": [],
   "source": [
    "# You can get specific column values for a single entry\n",
    "pokedex_df.loc[250,['Pokemon','Type I','Type II']]"
   ]
  },
  {
   "cell_type": "code",
   "execution_count": null,
   "metadata": {
    "colab": {
     "base_uri": "https://localhost:8080/",
     "height": 425
    },
    "colab_type": "code",
    "id": "eqLbDDNuZXEM",
    "outputId": "2fd72cc2-f3e9-4fda-cc0b-0407e99162d6"
   },
   "outputs": [],
   "source": [
    "# you can use the : notation to slice multiple rows and columns\n",
    "pokedex_df.loc[690:700,'Pokemon':'Total']"
   ]
  },
  {
   "cell_type": "code",
   "execution_count": null,
   "metadata": {
    "colab": {
     "base_uri": "https://localhost:8080/",
     "height": 394
    },
    "colab_type": "code",
    "id": "ZWYdYTjeZrfc",
    "outputId": "0a108af2-55e7-42df-aaac-edbb826f8f42"
   },
   "outputs": [],
   "source": [
    "# Similarly to numpy, you can use the : notation without indices on a side to mean \"from beginning\" or \"to end\"\n",
    "pokedex_df.loc[:10,\"Ability I\":]"
   ]
  },
  {
   "cell_type": "code",
   "execution_count": null,
   "metadata": {
    "colab": {
     "base_uri": "https://localhost:8080/",
     "height": 225
    },
    "colab_type": "code",
    "id": "Gdn2XLAwZ-XY",
    "outputId": "b6ca4e93-690f-4eb7-a886-be26fdf16ccd"
   },
   "outputs": [],
   "source": [
    "# and : by itself gives all of the entries in that dimension\n",
    "pokedex_df.loc[:,'Pokemon'].head(10) #just return top 10 entries"
   ]
  },
  {
   "cell_type": "markdown",
   "metadata": {
    "colab_type": "text",
    "id": "25f2xDgiaW9G"
   },
   "source": [
    "### .iloc[ ] integer indexing\n",
    "\n",
    "The second way, using `.iloc[i,j]` uses the numpy-style integer indices to get a value. In this case, iloc takes integer values from 0 to the number of entries in that dimension. \n",
    "\n",
    "Like numpy, `.iloc[i,j]` gives the entry at the $i^{th}$ row and $j^{th}$ column."
   ]
  },
  {
   "cell_type": "code",
   "execution_count": null,
   "metadata": {
    "colab": {
     "base_uri": "https://localhost:8080/",
     "height": 298
    },
    "colab_type": "code",
    "id": "fIZiBTI6Wzpy",
    "outputId": "131bf4de-beb3-4358-9a61-8b7d560207f8"
   },
   "outputs": [],
   "source": [
    "pokedex_df.iloc[100] # gets 101st row (recall python counts from 0)"
   ]
  },
  {
   "cell_type": "code",
   "execution_count": null,
   "metadata": {
    "colab": {
     "base_uri": "https://localhost:8080/",
     "height": 237
    },
    "colab_type": "code",
    "id": "qeIU8iiZcN11",
    "outputId": "3f2b9083-3424-4434-b212-f2e97a564b12"
   },
   "outputs": [],
   "source": [
    "# The : style indexing also works for iloc\n",
    "pokedex_df.iloc[25:30, 0:8]"
   ]
  },
  {
   "cell_type": "markdown",
   "metadata": {
    "colab_type": "text",
    "id": "VVHlBz31ZAGX"
   },
   "source": [
    "## Adding columns, rows, and changing values\n",
    "You can add another column like:\n",
    "```\n",
    "dataframe['NewColumnName'] = value\n",
    "```\n",
    "`value` can be a single value, an array of the same size as the index of `dataframe`, a pandas `Series`, or a dictionary mapping `index: value` for entries in the dataframe index"
   ]
  },
  {
   "cell_type": "code",
   "execution_count": null,
   "metadata": {
    "colab": {
     "base_uri": "https://localhost:8080/",
     "height": 25801
    },
    "colab_type": "code",
    "id": "nunLPiwpcgrq",
    "outputId": "4614872e-4f61-49df-84eb-b29e3436d74d"
   },
   "outputs": [],
   "source": [
    "pokedex_df['Nickname'] = None\n",
    "pokedex_df"
   ]
  },
  {
   "cell_type": "code",
   "execution_count": null,
   "metadata": {
    "colab": {
     "base_uri": "https://localhost:8080/",
     "height": 112
    },
    "colab_type": "code",
    "id": "LkQ4A_1AaTwA",
    "outputId": "c6f48442-d7df-43b8-b27b-fe1a3a88ebce"
   },
   "outputs": [],
   "source": [
    "# you can change the value of an entry using indexing and assignment =\n",
    "pokedex_df.loc[4,'Nickname'] = 'Abby' # indexing using .loc[] pokedex entry 4, 'Nickname column'\n",
    "pokedex_df.iloc[113,-1] = 'Terry' # indexing using .iloc[] 113rd row, last column\n",
    "pokedex_df.iloc[[3,113],:] "
   ]
  },
  {
   "cell_type": "code",
   "execution_count": null,
   "metadata": {
    "colab": {
     "base_uri": "https://localhost:8080/",
     "height": 206
    },
    "colab_type": "code",
    "id": "iV_c2BcEXPue",
    "outputId": "39102398-e222-4690-fb71-9d4b38246fdf"
   },
   "outputs": [],
   "source": [
    "# you can add another dataframe on to the end using append()\n",
    "new_pokemon = pd.DataFrame([{'Pokemon':'Grookey', 'Type I':'Grass', 'Color':'Green'},\n",
    "                            {'Pokemon':'Scorbunny', 'Type I':'Fire', 'Color':'Red'},\n",
    "                            {'Pokemon':'Sobble', 'Type I':'Water', 'Color':'Blue'}], \n",
    "                           index=[803.0, 804.0, 805.0]) # create a dataframe with new entries using a list of dictionaries\n",
    "pokedex_df = pokedex_df.append(new_pokemon, sort=False) # the sort=False keyword prevents the columns from being reordered alphabetically\n",
    "pokedex_df = pokedex_df.fillna('').drop_duplicates() # some cleanup operations, replace NaN with emptry strings, and drop duplicate rowspokedex_df = pokedex_df.fillna('').drop_duplicates() \n",
    "pokedex_df.tail()"
   ]
  },
  {
   "cell_type": "markdown",
   "metadata": {
    "colab_type": "text",
    "id": "CtTBhTlEu4Pg"
   },
   "source": [
    "## Changing index column\n",
    "You can change the index column of the dataframe with `.set_index()` or reset it to default numerical indexing with `.reset_index()`.\n",
    "\n",
    "Note however, that these operations create a __copy__ of the original dataframe, and do not change the dataframe \"in place\" (i.e. doesn't change the original object)"
   ]
  },
  {
   "cell_type": "code",
   "execution_count": null,
   "metadata": {
    "colab": {
     "base_uri": "https://localhost:8080/",
     "height": 25770
    },
    "colab_type": "code",
    "id": "zgOq_Icyx9cg",
    "outputId": "bce7b58b-af73-45df-824f-39f215dbc7be"
   },
   "outputs": [],
   "source": [
    "# reset index to be default numerical index\n",
    "reindexed_pokedex = pokedex_df.reset_index()\n",
    "reindexed_pokedex"
   ]
  },
  {
   "cell_type": "code",
   "execution_count": null,
   "metadata": {
    "colab": {
     "base_uri": "https://localhost:8080/",
     "height": 25801
    },
    "colab_type": "code",
    "id": "yVPQvGfxy4eW",
    "outputId": "fedcd60e-de39-4cd6-9fd1-a3c20fd115a4"
   },
   "outputs": [],
   "source": [
    "# Change the index to the Pokemon name column\n",
    "pokedex_indexed_by_name = pokedex_df.set_index('Pokemon')\n",
    "pokedex_indexed_by_name"
   ]
  },
  {
   "cell_type": "code",
   "execution_count": null,
   "metadata": {
    "colab": {
     "base_uri": "https://localhost:8080/",
     "height": 25801
    },
    "colab_type": "code",
    "id": "C1z72zpnysnQ",
    "outputId": "ae2867cc-4d9a-4796-d620-74a4e106bea4"
   },
   "outputs": [],
   "source": [
    "# note that the original dataframe was not affected\n",
    "pokedex_df"
   ]
  },
  {
   "cell_type": "code",
   "execution_count": null,
   "metadata": {
    "colab": {
     "base_uri": "https://localhost:8080/",
     "height": 349
    },
    "colab_type": "code",
    "id": "Qp4qXlJo4Bc2",
    "outputId": "42841471-f343-4ce1-e43f-8e16da4eff73"
   },
   "outputs": [],
   "source": [
    "# drop last 3 rows\n",
    "pokedex_df = pokedex_df.drop([803, 804, 805])\n",
    "pokedex_df.tail()"
   ]
  },
  {
   "cell_type": "markdown",
   "metadata": {
    "colab_type": "text",
    "id": "_uTzK0lTDt78"
   },
   "source": [
    "## Logical indexing\n",
    "You can test conditionals on a column, for example, testing if the value of the column is greater than a value. What's returned is a boolean column of the same size, with a value of `True` wherever it is true, and `False` otherwise. (This can similarly be done in numpy).\n",
    "\n"
   ]
  },
  {
   "cell_type": "code",
   "execution_count": null,
   "metadata": {
    "colab": {
     "base_uri": "https://localhost:8080/",
     "height": 15388
    },
    "colab_type": "code",
    "id": "leuLv-DcDtD7",
    "outputId": "74302a04-62fb-46c1-a2b1-014dad051dab"
   },
   "outputs": [],
   "source": [
    "pokedex_df['Total'] > 520"
   ]
  },
  {
   "cell_type": "markdown",
   "metadata": {
    "colab_type": "text",
    "id": "YxQEatRfElvt"
   },
   "source": [
    "If you take that boolean column and use it to index the dataframe, you can get all of the entries that satisfy that condition."
   ]
  },
  {
   "cell_type": "code",
   "execution_count": null,
   "metadata": {
    "colab": {
     "base_uri": "https://localhost:8080/",
     "height": 5193
    },
    "colab_type": "code",
    "id": "KGD2XROFEj_B",
    "outputId": "a2174943-5046-459d-bbba-c780d5c74835"
   },
   "outputs": [],
   "source": [
    "pokedex_df.loc[pokedex_df['Total']>=520] # all of the pokemon with total base stats greater than 500"
   ]
  },
  {
   "cell_type": "code",
   "execution_count": null,
   "metadata": {
    "colab": {
     "base_uri": "https://localhost:8080/",
     "height": 1398
    },
    "colab_type": "code",
    "id": "QXmEVoupFsH7",
    "outputId": "d2f67190-ae9b-49ff-f58c-53895d68e6f4"
   },
   "outputs": [],
   "source": [
    "# Get all of the pokemon of a given color\n",
    "pokedex_df.loc[pokedex_df['Color']=='Black']"
   ]
  },
  {
   "cell_type": "markdown",
   "metadata": {
    "colab_type": "text",
    "id": "TPgU-VDL3_Pm"
   },
   "source": [
    "### Compound boolean queries\n",
    "You can use boolean operations (OR, AND, NOT) to combine conditions\n",
    "\n",
    "We will look for pokemon with specific types to demonstrate compound queries"
   ]
  },
  {
   "cell_type": "markdown",
   "metadata": {
    "colab_type": "text",
    "id": "NA5qPEx_4PV8"
   },
   "source": [
    "### OR queries\n",
    "In the following example, we query for all pokemon who have at least part \"Dragon\" typing.\n",
    "\n",
    "The vertical line | represents the element-wise \"OR\" operation. \"OR\" operations require either or both statements on either side of the operation to be true.\n",
    "\n",
    "Thus, the below query \n",
    "\n",
    "```query = (pokedex_df['Type I']=='Dragon') | (pokedex_df['Type II']=='Dragon')```\n",
    "\n",
    "asks, for each row, if 'Type I' is equal to \"Dragon\" OR 'Type II' is equal to \"Dragon\""
   ]
  },
  {
   "cell_type": "code",
   "execution_count": null,
   "metadata": {
    "colab": {
     "base_uri": "https://localhost:8080/",
     "height": 1492
    },
    "colab_type": "code",
    "id": "giJuly9ozVIw",
    "outputId": "9ace228a-46e6-443d-c099-7b73abebe229"
   },
   "outputs": [],
   "source": [
    "query = (pokedex_df['Type I']=='Dragon') | (pokedex_df['Type II']=='Dragon')\n",
    "pokedex_df.loc[query] # Get all of the entries corresponding to the above query"
   ]
  },
  {
   "cell_type": "code",
   "execution_count": null,
   "metadata": {
    "colab": {
     "base_uri": "https://localhost:8080/",
     "height": 34
    },
    "colab_type": "code",
    "id": "kzfVCsca5uQb",
    "outputId": "3c0a4b1c-97b7-482a-a927-74e0ca00ee3f"
   },
   "outputs": [],
   "source": [
    "(pokedex_df['Type I']=='Dragon').all()"
   ]
  },
  {
   "cell_type": "markdown",
   "metadata": {
    "colab_type": "text",
    "id": "DyRlYrf94xCF"
   },
   "source": [
    "### AND queries\n",
    "The ampersand `&` character represents the element-wise boolean operation \"AND\". In order for an \"AND\" statement to be true, both conditions on either side of the operation must be true.\n",
    "\n",
    "We can combine boolean operations to construct complex queries: for example, getting all pokemon who are both Dragon and Flying types. The query below looks for pokemon who are EITHER (Primary Type \"Flying\" AND Secondary Type \"Dragon\") OR (Primary Type \"Dragon\" AND Secondary Type \"Flying\")\n",
    "\n",
    "Note that parentheses should be used to group operations so that the order of operations is clear"
   ]
  },
  {
   "cell_type": "code",
   "execution_count": null,
   "metadata": {
    "colab": {
     "base_uri": "https://localhost:8080/",
     "height": 269
    },
    "colab_type": "code",
    "id": "rseiAixg0kDi",
    "outputId": "a3746123-615e-4033-a987-bb9ed033fe52"
   },
   "outputs": [],
   "source": [
    "# you can use the backslash operator \\ to continue code on the next line\n",
    "query = ((pokedex_df['Type I']=='Flying') & (pokedex_df['Type II']=='Dragon'))\\\n",
    "        | ((pokedex_df['Type I']=='Dragon') & (pokedex_df['Type II']=='Flying')) \n",
    "pokedex_df.loc[query]"
   ]
  },
  {
   "cell_type": "markdown",
   "metadata": {
    "colab_type": "text",
    "id": "M3s56Mn232Em"
   },
   "source": [
    "### NOT queries\n",
    "There are two ways to do negation. Consider the following query for selecting all pokemon who are Fire type, but not Flying\n",
    "\n",
    "```\n",
    "query = ((pokedex_df['Type I']=='Fire') & ~(pokedex_df['Type II']=='Flying'))\\\n",
    "        | ((pokedex_df['Type I']!='Flying') & (pokedex_df['Type II']=='Fire'))\n",
    "```\n",
    "\n",
    "The first way to do negation is with the tilde ~ symbol, which negates the subsequent boolean statement:\n",
    "We use this in `~(pokedex_df['Type II']=='Flying')`.\n",
    "The parentheses determine order of operations. First we find all entries where their secondary type is \"Flying\"\n",
    "Then the tilde in front negates that statement, flipping all True values to False, and vice versa\n",
    "\n",
    "The second way to do negation is using the != notation, which represents \"not equal to\"\n",
    "We use this in `(pokedex_df['Type I']!='Flying')`\n",
    "This finds all entries where their primary type is not equal to \"Flying\""
   ]
  },
  {
   "cell_type": "code",
   "execution_count": null,
   "metadata": {
    "colab": {
     "base_uri": "https://localhost:8080/",
     "height": 1931
    },
    "colab_type": "code",
    "id": "RQ2cjdKD2cE5",
    "outputId": "905c6652-d9ed-45e2-f1a4-0753864d32ee"
   },
   "outputs": [],
   "source": [
    "query = ((pokedex_df['Type I']=='Fire') & ~(pokedex_df['Type II']=='Flying'))\\\n",
    "        | ((pokedex_df['Type I']!='Flying') & (pokedex_df['Type II']=='Fire'))\n",
    "\n",
    "pokedex_df.loc[query]"
   ]
  },
  {
   "cell_type": "markdown",
   "metadata": {
    "colab_type": "text",
    "id": "x7P37IYFI8bz"
   },
   "source": [
    "## Sorting\n",
    "Dataframes can be sorted by value"
   ]
  },
  {
   "cell_type": "code",
   "execution_count": null,
   "metadata": {
    "colab": {
     "base_uri": "https://localhost:8080/",
     "height": 25801
    },
    "colab_type": "code",
    "id": "CLv8TcNHI8xH",
    "outputId": "0cb33e9f-8589-48d8-c7b9-7dc8d3100f0a"
   },
   "outputs": [],
   "source": [
    "pokedex_df.sort_values('Pokemon', ascending=False) # Sort by name descending"
   ]
  },
  {
   "cell_type": "code",
   "execution_count": null,
   "metadata": {
    "colab": {
     "base_uri": "https://localhost:8080/",
     "height": 25801
    },
    "colab_type": "code",
    "id": "E-dPmjOHKXHE",
    "outputId": "4975fa0b-d608-4a15-d433-19940fa2f823"
   },
   "outputs": [],
   "source": [
    "# You can sort by multiple columns\n",
    "pokedex_df.sort_values(['Type I','Type II', 'Total'], ascending=False) # Sort by type combination, then stats descending"
   ]
  },
  {
   "cell_type": "markdown",
   "metadata": {
    "colab_type": "text",
    "id": "Na8rlnoOM1ph"
   },
   "source": [
    "## Calculations and operations\n",
    "There are various ways to do math to the dataframes"
   ]
  },
  {
   "cell_type": "markdown",
   "metadata": {
    "colab_type": "text",
    "id": "Cv774EPlSq5Z"
   },
   "source": [
    "### Column operations\n",
    "You can perform basic math element-wise between columns, such as addition, subtraction, multiplication, and division"
   ]
  },
  {
   "cell_type": "code",
   "execution_count": null,
   "metadata": {
    "colab": {
     "base_uri": "https://localhost:8080/",
     "height": 15388
    },
    "colab_type": "code",
    "id": "9sXpgGrNNFSe",
    "outputId": "26722091-f92b-44e4-aedd-ac123c5b9249"
   },
   "outputs": [],
   "source": [
    "pokedex_df['Total']/ pokedex_df['HP'] # computes the ratio between total stats and HP"
   ]
  },
  {
   "cell_type": "markdown",
   "metadata": {
    "colab_type": "text",
    "id": "M0k2NkuGFrwy"
   },
   "source": [
    "### Universal functions\n",
    "Universal functions can operate on entire dataframes or slices of dataframes. They return a dataframe copy with the same index as the original dataframe. Numpy universal functions can be applied to any numeric dataframe or slice."
   ]
  },
  {
   "cell_type": "code",
   "execution_count": null,
   "metadata": {
    "colab": {
     "base_uri": "https://localhost:8080/",
     "height": 25801
    },
    "colab_type": "code",
    "id": "8ZfXNRSUIQpV",
    "outputId": "1a0c5925-629f-4619-ee4c-ec61e7247a4b"
   },
   "outputs": [],
   "source": [
    "np.log(pokedex_df.loc[:,'HP':'Total'].astype(float), axis=0) # take natural log of all stats\n",
    "# again, these functions operate on each element independently, and return a dataframe with the same index and size of input"
   ]
  },
  {
   "cell_type": "markdown",
   "metadata": {
    "colab_type": "text",
    "id": "JdKOTtl6TQXG"
   },
   "source": [
    "### .apply()\n",
    "You can apply an arbitrary function to each row or column using the `.apply()` function.\n",
    "\n",
    "If you pass the name of a function (e.g. np.mean, or the name of any function you've written), you can apply it to either each column, or each row using `.apply()`"
   ]
  },
  {
   "cell_type": "code",
   "execution_count": null,
   "metadata": {
    "colab": {
     "base_uri": "https://localhost:8080/",
     "height": 129
    },
    "colab_type": "code",
    "id": "1CwhdSOjTbWj",
    "outputId": "82948ccb-1254-4c89-85a0-b80880791260"
   },
   "outputs": [],
   "source": [
    "pokedex_df.loc[:,'Atk':'Speed'].apply(np.mean) # applies the function np.mean() to each column"
   ]
  },
  {
   "cell_type": "code",
   "execution_count": null,
   "metadata": {
    "colab": {
     "base_uri": "https://localhost:8080/",
     "height": 15388
    },
    "colab_type": "code",
    "id": "gkiK_qBiVUll",
    "outputId": "d1b604b5-c655-4727-b18b-6fa8a20c2f4d"
   },
   "outputs": [],
   "source": [
    "pokedex_df.loc[:,'Atk':'Speed'].apply(np.mean, axis=1) # if you wanted to apply it to each row instead, use the argument axis=1"
   ]
  },
  {
   "cell_type": "markdown",
   "metadata": {
    "colab_type": "text",
    "id": "GSpnx09-ViFa"
   },
   "source": [
    "The above example is actually a bit unnecessary. There are several built-in functions in dataframes, including a `.mean()` which has the same functionality."
   ]
  },
  {
   "cell_type": "code",
   "execution_count": null,
   "metadata": {
    "colab": {
     "base_uri": "https://localhost:8080/",
     "height": 129
    },
    "colab_type": "code",
    "id": "CHUZDiJmVfVq",
    "outputId": "a650d270-bc8f-4c66-cade-3584e8a1b2f2"
   },
   "outputs": [],
   "source": [
    "pokedex_df.loc[:,'Atk':'Speed'].mean()"
   ]
  },
  {
   "cell_type": "code",
   "execution_count": null,
   "metadata": {
    "colab": {
     "base_uri": "https://localhost:8080/",
     "height": 175
    },
    "colab_type": "code",
    "id": "rLek909nVc2b",
    "outputId": "27b6d412-e9ad-436a-9772-e08920daf21d"
   },
   "outputs": [],
   "source": [
    "pokedex_df.loc[:,'Atk':'Speed'].mean(axis=1) #applies per row"
   ]
  },
  {
   "cell_type": "markdown",
   "metadata": {
    "colab_type": "text",
    "id": "shPhOA0zWM63"
   },
   "source": [
    "Most [descriptive statistics](https://pandas.pydata.org/pandas-docs/stable/reference/frame.html#computations-descriptive-stats) (median, mode, standard deviation, count, quantile, etc) have built-in functions. Where `.apply()` really shines, however, is for applying custom functions. \n",
    "\n",
    "To show that functionality, let's take a sidebar and talk about lambda functions."
   ]
  },
  {
   "cell_type": "markdown",
   "metadata": {
    "colab_type": "text",
    "id": "__gYmVt4Tcq2"
   },
   "source": [
    "#### Lambda functions\n",
    "Sometimes you want to define a function, but you don't want to write a whole \n",
    "```\n",
    "def functionname(inputs):\n",
    "  ...\n",
    "  return outputs\n",
    "```\n",
    "\n",
    "In those situations, you can write lambda (anonymous) functions. The syntax for lambda functions is:\n",
    "\n",
    "```\n",
    "functionname = lambda x: operations_on_x\n",
    "```\n",
    "\n",
    "For example, if you wanted to write a function that squares the input, you could write:"
   ]
  },
  {
   "cell_type": "code",
   "execution_count": null,
   "metadata": {
    "colab": {
     "base_uri": "https://localhost:8080/",
     "height": 204
    },
    "colab_type": "code",
    "id": "qo1318UVTPEC",
    "outputId": "04c97052-417b-44e9-864c-043fe90c3c3d"
   },
   "outputs": [],
   "source": [
    "square_it = lambda x: x**2 # recall that ** is exponentiation in python, this function returns the square of the input\n",
    "for num in range(10):\n",
    "  print(square_it(num))"
   ]
  },
  {
   "cell_type": "markdown",
   "metadata": {
    "colab_type": "text",
    "id": "YkIB7TG1UTwQ"
   },
   "source": [
    "This is especially useful if some function takes another function as an argument, like panda's `.apply()`\n",
    "\n",
    "The typical usage of `.apply()` is:\n",
    "\n",
    "`dataframe_obj.apply(functionname)`, which calls `functionname` on each column of `dataframe_obj`\n",
    "\n",
    "However, you can replace `functionname` with a lambda function. In this example, we use the following lambda function:\n",
    "\n",
    "```lambda col: [np.min(col), np.max(col)]```\n",
    "\n",
    "The word `col` represents the argument, and then to the right of the colon, we return a list with two elements: the minimum and maximum values of the column\n"
   ]
  },
  {
   "cell_type": "code",
   "execution_count": null,
   "metadata": {
    "colab": {
     "base_uri": "https://localhost:8080/",
     "height": 167
    },
    "colab_type": "code",
    "id": "q-GtN7kFUSuc",
    "outputId": "c5962caf-9434-48ff-c6e1-2084863edd73"
   },
   "outputs": [],
   "source": [
    "pokedex_df.loc[:,'HP':'Total'].apply(lambda col: [np.min(col), np.max(col)])"
   ]
  },
  {
   "cell_type": "markdown",
   "metadata": {
    "colab_type": "text",
    "id": "iYz7cyujcNQ-"
   },
   "source": [
    "the above can be expanded into a dataframe:"
   ]
  },
  {
   "cell_type": "code",
   "execution_count": null,
   "metadata": {
    "colab": {
     "base_uri": "https://localhost:8080/",
     "height": 112
    },
    "colab_type": "code",
    "id": "lGckh7SZcR9G",
    "outputId": "bc335d7c-4b62-4b24-ec77-b052566de057"
   },
   "outputs": [],
   "source": [
    "pokedex_df.loc[:,'HP':'Total'].apply(lambda col: [np.min(col), np.mean(col), np.max(col)], result_type='expand')"
   ]
  },
  {
   "cell_type": "markdown",
   "metadata": {
    "colab_type": "text",
    "id": "vqqiBbYmep6f"
   },
   "source": [
    "### Groupby\n",
    "Dataframes can be grouped by column values, and operations can be applied to each group"
   ]
  },
  {
   "cell_type": "code",
   "execution_count": null,
   "metadata": {
    "colab": {
     "base_uri": "https://localhost:8080/",
     "height": 3103
    },
    "colab_type": "code",
    "id": "tW7xTf3SprLj",
    "outputId": "2d25d51f-8bb3-43ee-ed32-c8e9a5270760"
   },
   "outputs": [],
   "source": [
    "pokedex_df.groupby(['Type I','Type II'])['Total'].count()"
   ]
  },
  {
   "cell_type": "code",
   "execution_count": null,
   "metadata": {
    "colab": {
     "base_uri": "https://localhost:8080/",
     "height": 3103
    },
    "colab_type": "code",
    "id": "Rv817FVve2g3",
    "outputId": "b430e414-f3f3-46a2-b9cb-6093decfe210"
   },
   "outputs": [],
   "source": [
    "pokedex_df.groupby(['Type I','Type II'])['Total'].apply(lambda col: [np.min(col), np.max(col)])"
   ]
  },
  {
   "cell_type": "markdown",
   "metadata": {
    "colab_type": "text",
    "id": "6w5Exb1A0sE5"
   },
   "source": [
    "# Intermediate Pandas\n",
    "In this section, we'll cover some more advanced topics in pandas, including \n",
    "*   Multi-indexing\n",
    "*   Joining and merging\n",
    "*   Pivot tables\n",
    "\n",
    "We'll be introducing some more data to play with, based on state populations over time\n"
   ]
  },
  {
   "cell_type": "code",
   "execution_count": null,
   "metadata": {
    "colab": {
     "base_uri": "https://localhost:8080/",
     "height": 238
    },
    "colab_type": "code",
    "id": "HcfeRM5k71mu",
    "outputId": "dc11b82d-249c-4efe-e89b-5cb950d9a4ae"
   },
   "outputs": [],
   "source": [
    "state_populations_url = 'https://raw.githubusercontent.com/jakevdp/data-USstates/master/state-population.csv'\n",
    "state_abbrevs_url = 'https://raw.githubusercontent.com/jakevdp/data-USstates/master/state-abbrevs.csv'\n",
    "state_areas_url = 'https://raw.githubusercontent.com/jakevdp/data-USstates/master/state-areas.csv'\n",
    "\n",
    "state_areas = pd.read_csv(state_areas_url, index_col='state')\n",
    "state_areas.head() # just print top 5 rows"
   ]
  },
  {
   "cell_type": "code",
   "execution_count": null,
   "metadata": {
    "colab": {
     "base_uri": "https://localhost:8080/",
     "height": 206
    },
    "colab_type": "code",
    "id": "M0F-eNpI-W_V",
    "outputId": "e53c0b35-6b82-4013-b3ec-518f6ff28709"
   },
   "outputs": [],
   "source": [
    "state_abbrevs = pd.read_csv(state_abbrevs_url)\n",
    "state_abbrevs.head()"
   ]
  },
  {
   "cell_type": "code",
   "execution_count": null,
   "metadata": {
    "colab": {
     "base_uri": "https://localhost:8080/",
     "height": 363
    },
    "colab_type": "code",
    "id": "C3RCukTX9_gK",
    "outputId": "08761e8f-7898-4815-df95-807f26f6d11e"
   },
   "outputs": [],
   "source": [
    "state_populations = pd.read_csv(state_populations_url) \n",
    "state_populations.head(10) #print first 10 rows"
   ]
  },
  {
   "cell_type": "markdown",
   "metadata": {
    "colab_type": "text",
    "id": "ToYQRQZPWK7Y"
   },
   "source": [
    "Note that the state populations are just listed by abbreviations. It may be useful to include the state names as a column in a table. We have this information in the `state_abbrevs` table. We'd like to merge it with the population data.\n",
    "\n",
    "The function `pd.merge()` merges two dataframes using set logic. "
   ]
  },
  {
   "cell_type": "code",
   "execution_count": null,
   "metadata": {
    "colab": {
     "base_uri": "https://localhost:8080/",
     "height": 206
    },
    "colab_type": "code",
    "id": "EtS2hAEtWWZV",
    "outputId": "1ce09ae8-2977-4be2-957b-20d395477214"
   },
   "outputs": [],
   "source": [
    "merged = pd.merge(state_populations, state_abbrevs, how='outer',\n",
    "                 left_on='state/region', right_on='abbreviation')\n",
    "# The arguments left_on and right_on specify what columns to join on. It looks for matching values in each dataframe\n",
    "# and fills in the additional columns of the merged dataframe based on the matching data\n",
    "# The 'how' argument specifies what kind of join. Outer means keep all entries even if one does not show up in the other\n",
    "# conversely, 'inner' discards rows where a corresponding entry does not exist in the other\n",
    "merged.head()"
   ]
  },
  {
   "cell_type": "code",
   "execution_count": null,
   "metadata": {
    "colab": {
     "base_uri": "https://localhost:8080/",
     "height": 206
    },
    "colab_type": "code",
    "id": "IN316mXzXEyh",
    "outputId": "00b65431-c716-4245-db3f-3c9f7f64379c"
   },
   "outputs": [],
   "source": [
    "# we can also drop the unnecessary extra abbreviation column now\n",
    "merged = merged.drop('abbreviation', axis=1) #drop from columns\n",
    "merged.head()"
   ]
  },
  {
   "cell_type": "code",
   "execution_count": null,
   "metadata": {
    "colab": {
     "base_uri": "https://localhost:8080/",
     "height": 121
    },
    "colab_type": "code",
    "id": "DS2SBtc1YayY",
    "outputId": "89ae03d4-686a-40b0-fca0-6bf7da16dd04"
   },
   "outputs": [],
   "source": [
    "# we can check if there were any missing values\n",
    "merged.isnull().any()"
   ]
  },
  {
   "cell_type": "code",
   "execution_count": null,
   "metadata": {
    "colab": {
     "base_uri": "https://localhost:8080/",
     "height": 677
    },
    "colab_type": "code",
    "id": "FShzlaOIYovN",
    "outputId": "773d600a-cdd2-4dfe-b841-0f2c6aa7cb05"
   },
   "outputs": [],
   "source": [
    "# let's see where the issue is. What entries are missing population entries?\n",
    "merged[merged['population'].isnull()]"
   ]
  },
  {
   "cell_type": "code",
   "execution_count": null,
   "metadata": {
    "colab": {
     "base_uri": "https://localhost:8080/",
     "height": 1000
    },
    "colab_type": "code",
    "id": "HmB0prkYYwVc",
    "outputId": "7c6642af-0ac8-4132-e600-389a0ce08ed1"
   },
   "outputs": [],
   "source": [
    "# what about where there's no state entry?\n",
    "merged.loc[merged['state'].isnull(), 'state/region']"
   ]
  },
  {
   "cell_type": "code",
   "execution_count": null,
   "metadata": {
    "colab": {
     "base_uri": "https://localhost:8080/",
     "height": 34
    },
    "colab_type": "code",
    "id": "uEB-f0GgZAY6",
    "outputId": "94940158-d149-4bc7-a2e1-4273d034080f"
   },
   "outputs": [],
   "source": [
    "# more concicely, we can use .unique() to only see the unique values\n",
    "merged.loc[merged['state'].isnull(), 'state/region'].unique()"
   ]
  },
  {
   "cell_type": "code",
   "execution_count": null,
   "metadata": {
    "colab": {
     "base_uri": "https://localhost:8080/",
     "height": 121
    },
    "colab_type": "code",
    "id": "w3okP-0OZMWS",
    "outputId": "c5de06d0-6e92-43a0-84a5-e6056bd24045"
   },
   "outputs": [],
   "source": [
    "# We can fix this easily\n",
    "merged.loc[merged['state/region'] == 'PR', 'state'] = 'Puerto Rico'\n",
    "merged.loc[merged['state/region'] == 'USA', 'state'] = 'United States'\n",
    "merged.isnull().any()"
   ]
  },
  {
   "cell_type": "code",
   "execution_count": null,
   "metadata": {
    "colab": {
     "base_uri": "https://localhost:8080/",
     "height": 206
    },
    "colab_type": "code",
    "id": "yR560tvNZXVb",
    "outputId": "2164ff39-33a2-4b4e-fb67-7a0ba7a38010"
   },
   "outputs": [],
   "source": [
    "# now let's combine the data with the area data\n",
    "final = pd.merge(merged, state_areas, on='state', how='left')\n",
    "final.head()"
   ]
  },
  {
   "cell_type": "code",
   "execution_count": null,
   "metadata": {
    "colab": {
     "base_uri": "https://localhost:8080/",
     "height": 238
    },
    "colab_type": "code",
    "id": "3OQeiWmrZ4wV",
    "outputId": "d84e7370-5914-438f-bfb7-c8586361e46f"
   },
   "outputs": [],
   "source": [
    "# we can use the .query() syntax to search for specific data\n",
    "data2010 = final.query(\"year == 2010 & ages == 'total'\") # specify column name \n",
    "data2010.set_index('state', inplace=True) # equivalent to data2010 = data2010.set_index('state')\n",
    "data2010.head()"
   ]
  },
  {
   "cell_type": "code",
   "execution_count": null,
   "metadata": {
    "colab": {
     "base_uri": "https://localhost:8080/",
     "height": 139
    },
    "colab_type": "code",
    "id": "1TVGiCgOaNIZ",
    "outputId": "0bb1392f-ae86-4124-ee87-b826cdb1b1bd"
   },
   "outputs": [],
   "source": [
    "# Let's compute the density of each state and then sort by density\n",
    "density = data2010['population'] / data2010['area (sq. mi)']\n",
    "density.sort_values(ascending=False, inplace=True)\n",
    "density.head()"
   ]
  },
  {
   "cell_type": "code",
   "execution_count": null,
   "metadata": {
    "colab": {
     "base_uri": "https://localhost:8080/",
     "height": 139
    },
    "colab_type": "code",
    "id": "aqi0XYVIacz_",
    "outputId": "1bed37db-3b2d-4c7e-9a65-81d3d53a9f4c"
   },
   "outputs": [],
   "source": [
    "density.tail()"
   ]
  },
  {
   "cell_type": "markdown",
   "metadata": {
    "colab_type": "text",
    "id": "_oeHJng0as-r"
   },
   "source": [
    "### Exercises\n",
    "Compute the total population of the entire united states, as well as its population density for each year.\n",
    "\n",
    "Sort the states by population density.\n",
    "\n",
    "What year saw the biggest change in population for the US as a whole?\n",
    "\n",
    "Which states had the biggest percentage change in population in that year?"
   ]
  },
  {
   "cell_type": "code",
   "execution_count": null,
   "metadata": {
    "colab": {},
    "colab_type": "code",
    "id": "ZgT4QonNasDx"
   },
   "outputs": [],
   "source": []
  },
  {
   "cell_type": "markdown",
   "metadata": {
    "colab_type": "text",
    "id": "7qUiJyZC9RhL"
   },
   "source": [
    "## Multiindexing\n",
    "You can use multiple columns to define an index, as long as each row has a unique combination of values within those columns. In the following example, we will use the columns \"state/region\", \"year\", and \"ages\" of the population dataframe as an index"
   ]
  },
  {
   "cell_type": "markdown",
   "metadata": {
    "colab_type": "text",
    "id": "pGwNAVM02SiY"
   },
   "source": [
    "We use the `.set_index(['column_name1', 'column_name2, ...])'` command to create a multiindex from existing columns.\n",
    "\n",
    "Note that many operations require a multiindex to be sorted, so we also call `.sort_index()` on the dataframe. Also, `.set_index()` and `.sort_index()` return a _copy_ of the dataframe, so we assign the output to itself to update the value."
   ]
  },
  {
   "cell_type": "code",
   "execution_count": null,
   "metadata": {
    "colab": {
     "base_uri": "https://localhost:8080/",
     "height": 394
    },
    "colab_type": "code",
    "id": "oMOGlLMH9MRZ",
    "outputId": "eac200d3-acf3-4785-e706-ba47a0244779"
   },
   "outputs": [],
   "source": [
    "# set index to use multiple columns\n",
    "final = final.set_index(['state/region','year','ages']) # overwrite old version with new version with index set\n",
    "final = final.sort_index() # replace itself with a version with a sorted index\n",
    "final.tail(10) # print last 10 entries"
   ]
  },
  {
   "cell_type": "markdown",
   "metadata": {
    "colab_type": "text",
    "id": "Jbi1tsgC3RKe"
   },
   "source": [
    "### Stacking and unstacking\n",
    "Columns can also have multiple levels. In fact, the columns can be thought of as just another index that runs horizontally. This is most easily illustrated by stacking, unstacking, and transposing.\n",
    "\n",
    "You can convert a level of the row index to a column level using the `.unstack()` command. Conversely, `.stack()` moves a column level to the index\n"
   ]
  },
  {
   "cell_type": "code",
   "execution_count": null,
   "metadata": {
    "colab": {
     "base_uri": "https://localhost:8080/",
     "height": 1000
    },
    "colab_type": "code",
    "id": "4C1udZS_3Rmm",
    "outputId": "5c7acdd9-66bb-4530-a7e4-9054bf69c97d"
   },
   "outputs": [],
   "source": [
    "unstacked = final.unstack(level='ages') # you can unstack by level name; this moves the 'ages' categories into the column index\n",
    "unstacked"
   ]
  },
  {
   "cell_type": "code",
   "execution_count": null,
   "metadata": {
    "colab": {
     "base_uri": "https://localhost:8080/",
     "height": 1000
    },
    "colab_type": "code",
    "id": "pTLu9JIH44ip",
    "outputId": "da8f8beb-488e-45e5-f452-760235aef7ef"
   },
   "outputs": [],
   "source": [
    "restacked = unstacked.stack('ages', dropna=False) # stacks the column level back into the row index\n",
    "# by default, .stack() omits entries with NaN. If you want to preserve the NaN entries, use the option dropna=False\n",
    "restacked == final # just like the original state_populations dataframe"
   ]
  },
  {
   "cell_type": "code",
   "execution_count": null,
   "metadata": {
    "colab": {
     "base_uri": "https://localhost:8080/",
     "height": 1000
    },
    "colab_type": "code",
    "id": "Prl-R9wx32nl",
    "outputId": "b60d1b18-3f46-4ac0-f766-f6594e46d46b"
   },
   "outputs": [],
   "source": [
    "final.unstack(level=0) # you can also unstack using integer levels. Here we unstacked level 0, corresponding to state/region"
   ]
  },
  {
   "cell_type": "markdown",
   "metadata": {
    "colab_type": "text",
    "id": "olawXNgH59tc"
   },
   "source": [
    "You can switch the row and column index using the transpose function `.T`"
   ]
  },
  {
   "cell_type": "code",
   "execution_count": null,
   "metadata": {
    "colab": {
     "base_uri": "https://localhost:8080/",
     "height": 1000
    },
    "colab_type": "code",
    "id": "maD2dTI056Hv",
    "outputId": "7f51aa75-2d6c-4161-c232-36b8e39f7016"
   },
   "outputs": [],
   "source": [
    "final.unstack(level=0).T"
   ]
  },
  {
   "cell_type": "markdown",
   "metadata": {
    "colab_type": "text",
    "id": "l1uAoJ5J_dVt"
   },
   "source": [
    "### Pivoting\n",
    "Pivoting is another advanced way to transform data. It creates a new dataframe using the values of columns as `index` and `column` values. \n",
    "\n",
    "You can then aggregate using `aggfunc` the elements of another column, which becomes the `values` of this new dataframe.\n"
   ]
  },
  {
   "cell_type": "code",
   "execution_count": null,
   "metadata": {
    "colab": {
     "base_uri": "https://localhost:8080/",
     "height": 1000
    },
    "colab_type": "code",
    "id": "MNqFJ0txAS6d",
    "outputId": "a02e590f-b527-4d7e-9f8c-e7e5fcc123e1"
   },
   "outputs": [],
   "source": [
    "# let's create a table which lists all pokemon for given type combinations\n",
    "pokedex_df.pivot_table(values='Pokemon', # line breaks within parentheses automatically continue onto next line\n",
    "                       index='Type I', # values of Type I become index entries\n",
    "                       columns='Type II', # likewise Type II become columns\n",
    "                       aggfunc=lambda x:\", \".join(x)).fillna('') # the lambda function here just joins a list of strings using a comma\n",
    "                      # we also fill nan values with empty string for aesthetics"
   ]
  },
  {
   "cell_type": "code",
   "execution_count": null,
   "metadata": {
    "colab": {
     "base_uri": "https://localhost:8080/",
     "height": 665
    },
    "colab_type": "code",
    "id": "ako2kzbicBbI",
    "outputId": "daa0786d-d21f-4201-f8e2-2ad58e10207a"
   },
   "outputs": [],
   "source": [
    "# compute the average stats for each type combination\n",
    "pokedex_df.unstack()\n",
    "pokedex_df.pivot_table(values='Total',\n",
    "                       index='Type I', \n",
    "                       columns='Type II', \n",
    "                       aggfunc=np.mean).fillna('')"
   ]
  },
  {
   "cell_type": "code",
   "execution_count": null,
   "metadata": {
    "colab": {
     "base_uri": "https://localhost:8080/",
     "height": 728
    },
    "colab_type": "code",
    "id": "uRjQENGiciO6",
    "outputId": "e8d048d8-b797-4267-bc1c-87bd448411ea"
   },
   "outputs": [],
   "source": [
    "# You can compute multiple aggregations on multiple columns by passing a dict\n",
    "# into the aggfunc argument: aggfunc={'column_name':[list_of_function_names]}\n",
    "# Note that in this case, the 'value' argument is ignored\n",
    "pokedex_df.pivot_table(index='Type I', \n",
    "                       columns='Type II', \n",
    "                       aggfunc={'Total':[np.mean,np.std], \n",
    "                                'Atk':[np.mean,np.std]}).fillna('')"
   ]
  },
  {
   "cell_type": "markdown",
   "metadata": {
    "colab_type": "text",
    "id": "Qj6iYEa6g4j8"
   },
   "source": [
    "# Exercise\n",
    "Using this data (or any other data you're interested in and you find online), put together an analysis using pandas that investigates an interesting question.\n",
    "\n",
    "It can be serious or silly. Like \"Do states with higher population density tend to vote democratic?\" (you'd need to pull additional data for this) or \"Do pokemon whose names start with the letter D have better stats than those who start with F?\"\n",
    "\n",
    "We'll ask some volunteers to present their analysis at the end\n"
   ]
  },
  {
   "cell_type": "code",
   "execution_count": null,
   "metadata": {
    "colab": {},
    "colab_type": "code",
    "id": "eNeE2Pd59tPx"
   },
   "outputs": [],
   "source": []
  }
 ],
 "metadata": {
  "colab": {
   "collapsed_sections": [],
   "include_colab_link": true,
   "name": "01b_Intro_to_pandas.ipynb",
   "provenance": [],
   "version": "0.3.2"
  },
  "kernelspec": {
   "display_name": "Python 3",
   "language": "python",
   "name": "python3"
  },
  "language_info": {
   "codemirror_mode": {
    "name": "ipython",
    "version": 3
   },
   "file_extension": ".py",
   "mimetype": "text/x-python",
   "name": "python",
   "nbconvert_exporter": "python",
   "pygments_lexer": "ipython3",
   "version": "3.7.6"
  }
 },
 "nbformat": 4,
 "nbformat_minor": 4
}
