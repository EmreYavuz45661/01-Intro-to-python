{
  "nbformat": 4,
  "nbformat_minor": 0,
  "metadata": {
    "colab": {
      "name": "01-Intro-to-python.ipynb",
      "version": "0.3.2",
      "provenance": [],
      "collapsed_sections": [],
      "toc_visible": true,
      "include_colab_link": true
    },
    "kernelspec": {
      "name": "python3",
      "display_name": "Python 3"
    }
  },
  "cells": [
    {
      "cell_type": "markdown",
      "metadata": {
        "id": "view-in-github",
        "colab_type": "text"
      },
      "source": [
        "<a href=\"https://colab.research.google.com/github/bwsi-hadr/01-Intro-to-python/blob/master/01_Intro_to_python.ipynb\" target=\"_parent\"><img src=\"https://colab.research.google.com/assets/colab-badge.svg\" alt=\"Open In Colab\"/></a>"
      ]
    },
    {
      "cell_type": "markdown",
      "metadata": {
        "id": "0UBNExO0rS_Z",
        "colab_type": "text"
      },
      "source": [
        "# Intro to (/review of) python \n",
        "In this lesson, we'll review basic python and programming concepts, as well as go over the fundamentals of how to use some common python packages, such as:\n",
        "- numpy\n",
        "- pandas\n",
        "- matplotlib\n",
        "\n",
        "## Importing packages\n",
        "Packages are collections of pre-written code made available for reuse. In the previous lesson, we installed some necessary packages using the `pip` python package manager. Packages are convenient because they save you from having to implement every feature and function on your own. The widely-used packages also provide a standard, common set of tools for others to develop with --- allowing interoperability between programs.\n",
        "\n",
        "There are a few different ways to import  package in python:\n",
        "\n",
        "The simplest is just to `import {packagename}`. For this lesson, we'll use `numpy` as the example package\n",
        "```\n",
        "import numpy\n",
        "```\n",
        "The functions, classes, and variables of the `numpy` package can then be accessed using \"dot\" notation: for example, the numpy array class can be accessed with `numpy.array`\n",
        "\n",
        "---\n",
        "A variant of this is to use `import {packagename} as {shortname}`, as in:\n",
        "```\n",
        "import numpy as np\n",
        "```\n",
        "This reduces the number of characters needed to type, and can be convenient if the package name is long, or you need to use many things from the same package. Accessing the numpy array class, for example, can be done with ```np.array```\n",
        "\n",
        "---\n",
        "\n",
        "If you only need a subset of items from a package, for example, a single class, function, or a submodule (subpackage of the main package), you can use the syntax ``` from {packagename} import {element}```, as in:\n",
        "```\n",
        "from numpy import array\n",
        "```\n",
        "This allows you to use the `array` class directly, without importing the rest of the numpy package, and without needing to use the package prefix dot notation.\n",
        "For example, if you use this import method, then writing\n",
        "```\n",
        "test_array = array([0])\n",
        "```\n",
        "would be equivalent to writing\n",
        "```\n",
        "test_array = numpy.array([0])\n",
        "test_array = np.array([0])\n",
        "```\n",
        "using the previous import styles, respectively."
      ]
    },
    {
      "cell_type": "code",
      "metadata": {
        "id": "Sh6gjbXsq-Mr",
        "colab_type": "code",
        "colab": {}
      },
      "source": [
        "import numpy as np\n",
        "import pandas as pd\n",
        "from matplotlib import pyplot"
      ],
      "execution_count": 0,
      "outputs": []
    },
    {
      "cell_type": "markdown",
      "metadata": {
        "id": "Ia4KAaLVv_eA",
        "colab_type": "text"
      },
      "source": [
        "## Documentation\n",
        "\n",
        "Packages contain functions, classes, and variables which may be helpful. Crucial to the usability of a package is the documentation (or API reference), which (should) list all of the contents of the package, and how to use them.\n",
        "\n",
        "To get the built-in help about a function or class, use the `help()` command\n",
        "\n",
        "Documentation for most common packages are also usually available online. For example, the documentation for [numpy can be found here](https://docs.scipy.org/doc/numpy/reference/)"
      ]
    },
    {
      "cell_type": "code",
      "metadata": {
        "id": "1HBI-270uEKo",
        "colab_type": "code",
        "outputId": "c4f31b0b-c811-4eba-f780-918934c15cea",
        "colab": {
          "base_uri": "https://localhost:8080/",
          "height": 2130
        }
      },
      "source": [
        "help(np.array)"
      ],
      "execution_count": 28,
      "outputs": [
        {
          "output_type": "stream",
          "text": [
            "Help on built-in function array in module numpy:\n",
            "\n",
            "array(...)\n",
            "    array(object, dtype=None, copy=True, order='K', subok=False, ndmin=0)\n",
            "    \n",
            "    Create an array.\n",
            "    \n",
            "    Parameters\n",
            "    ----------\n",
            "    object : array_like\n",
            "        An array, any object exposing the array interface, an object whose\n",
            "        __array__ method returns an array, or any (nested) sequence.\n",
            "    dtype : data-type, optional\n",
            "        The desired data-type for the array.  If not given, then the type will\n",
            "        be determined as the minimum type required to hold the objects in the\n",
            "        sequence.  This argument can only be used to 'upcast' the array.  For\n",
            "        downcasting, use the .astype(t) method.\n",
            "    copy : bool, optional\n",
            "        If true (default), then the object is copied.  Otherwise, a copy will\n",
            "        only be made if __array__ returns a copy, if obj is a nested sequence,\n",
            "        or if a copy is needed to satisfy any of the other requirements\n",
            "        (`dtype`, `order`, etc.).\n",
            "    order : {'K', 'A', 'C', 'F'}, optional\n",
            "        Specify the memory layout of the array. If object is not an array, the\n",
            "        newly created array will be in C order (row major) unless 'F' is\n",
            "        specified, in which case it will be in Fortran order (column major).\n",
            "        If object is an array the following holds.\n",
            "    \n",
            "        ===== ========= ===================================================\n",
            "        order  no copy                     copy=True\n",
            "        ===== ========= ===================================================\n",
            "        'K'   unchanged F & C order preserved, otherwise most similar order\n",
            "        'A'   unchanged F order if input is F and not C, otherwise C order\n",
            "        'C'   C order   C order\n",
            "        'F'   F order   F order\n",
            "        ===== ========= ===================================================\n",
            "    \n",
            "        When ``copy=False`` and a copy is made for other reasons, the result is\n",
            "        the same as if ``copy=True``, with some exceptions for `A`, see the\n",
            "        Notes section. The default order is 'K'.\n",
            "    subok : bool, optional\n",
            "        If True, then sub-classes will be passed-through, otherwise\n",
            "        the returned array will be forced to be a base-class array (default).\n",
            "    ndmin : int, optional\n",
            "        Specifies the minimum number of dimensions that the resulting\n",
            "        array should have.  Ones will be pre-pended to the shape as\n",
            "        needed to meet this requirement.\n",
            "    \n",
            "    Returns\n",
            "    -------\n",
            "    out : ndarray\n",
            "        An array object satisfying the specified requirements.\n",
            "    \n",
            "    See Also\n",
            "    --------\n",
            "    empty_like : Return an empty array with shape and type of input.\n",
            "    ones_like : Return an array of ones with shape and type of input.\n",
            "    zeros_like : Return an array of zeros with shape and type of input.\n",
            "    full_like : Return a new array with shape of input filled with value.\n",
            "    empty : Return a new uninitialized array.\n",
            "    ones : Return a new array setting values to one.\n",
            "    zeros : Return a new array setting values to zero.\n",
            "    full : Return a new array of given shape filled with value.\n",
            "    \n",
            "    \n",
            "    Notes\n",
            "    -----\n",
            "    When order is 'A' and `object` is an array in neither 'C' nor 'F' order,\n",
            "    and a copy is forced by a change in dtype, then the order of the result is\n",
            "    not necessarily 'C' as expected. This is likely a bug.\n",
            "    \n",
            "    Examples\n",
            "    --------\n",
            "    >>> np.array([1, 2, 3])\n",
            "    array([1, 2, 3])\n",
            "    \n",
            "    Upcasting:\n",
            "    \n",
            "    >>> np.array([1, 2, 3.0])\n",
            "    array([ 1.,  2.,  3.])\n",
            "    \n",
            "    More than one dimension:\n",
            "    \n",
            "    >>> np.array([[1, 2], [3, 4]])\n",
            "    array([[1, 2],\n",
            "           [3, 4]])\n",
            "    \n",
            "    Minimum dimensions 2:\n",
            "    \n",
            "    >>> np.array([1, 2, 3], ndmin=2)\n",
            "    array([[1, 2, 3]])\n",
            "    \n",
            "    Type provided:\n",
            "    \n",
            "    >>> np.array([1, 2, 3], dtype=complex)\n",
            "    array([ 1.+0.j,  2.+0.j,  3.+0.j])\n",
            "    \n",
            "    Data-type consisting of more than one element:\n",
            "    \n",
            "    >>> x = np.array([(1,2),(3,4)],dtype=[('a','<i4'),('b','<i4')])\n",
            "    >>> x['a']\n",
            "    array([1, 3])\n",
            "    \n",
            "    Creating an array from sub-classes:\n",
            "    \n",
            "    >>> np.array(np.mat('1 2; 3 4'))\n",
            "    array([[1, 2],\n",
            "           [3, 4]])\n",
            "    \n",
            "    >>> np.array(np.mat('1 2; 3 4'), subok=True)\n",
            "    matrix([[1, 2],\n",
            "            [3, 4]])\n",
            "\n"
          ],
          "name": "stdout"
        }
      ]
    },
    {
      "cell_type": "markdown",
      "metadata": {
        "id": "JRy_xcT2zHyQ",
        "colab_type": "text"
      },
      "source": [
        "### Commenting code\n",
        "In order for your code to be readable to others (or your future self), you should provide comments on your code to explain what you are doing. The comment character in python is `#`, and any text following a `#` symbol will not be interpreted as code by python."
      ]
    },
    {
      "cell_type": "code",
      "metadata": {
        "id": "PZgpEmkSvkWT",
        "colab_type": "code",
        "outputId": "a4f8027b-9cac-4fb0-d5db-2b93c3ede118",
        "colab": {
          "base_uri": "https://localhost:8080/",
          "height": 73
        }
      },
      "source": [
        "array_of_zeros = np.zeros([3,3]) # this creates a 3x3 array full of zeros\n",
        "print(array_of_zeros) # the print() function displays the value of the variable on screen"
      ],
      "execution_count": 29,
      "outputs": [
        {
          "output_type": "stream",
          "text": [
            "[[0. 0. 0.]\n",
            " [0. 0. 0.]\n",
            " [0. 0. 0.]]\n"
          ],
          "name": "stdout"
        }
      ]
    },
    {
      "cell_type": "markdown",
      "metadata": {
        "id": "jx899IXrFTkM",
        "colab_type": "text"
      },
      "source": [
        "## Code flow"
      ]
    },
    {
      "cell_type": "markdown",
      "metadata": {
        "id": "OcozBa0m5sMX",
        "colab_type": "text"
      },
      "source": [
        "\n",
        "### Loops\n",
        "A key part of programming is automating repetitive tasks, such as applying the same operation to a list of inputs. This is achieved using \"loops\"; most commonly, the `for` loop.\n",
        "\n",
        "In its simplest form, a python loop iterates over a list, and runs the code within the loop with the variable set equal to the respective element of the list."
      ]
    },
    {
      "cell_type": "code",
      "metadata": {
        "id": "MKvAT1qCCaUR",
        "colab_type": "code",
        "outputId": "e039b861-2125-4b50-f18e-7c764b8ec9fa",
        "colab": {
          "base_uri": "https://localhost:8080/",
          "height": 129
        }
      },
      "source": [
        "idx_list = [0,1,2,3,4,5]\n",
        "for idx in idx_list: # loop over idx_list, set idx equal to each element sequentially\n",
        "  print('idx is equal to {}'.format(idx)) # print the current value of idx"
      ],
      "execution_count": 30,
      "outputs": [
        {
          "output_type": "stream",
          "text": [
            "idx is equal to 0\n",
            "idx is equal to 1\n",
            "idx is equal to 2\n",
            "idx is equal to 3\n",
            "idx is equal to 4\n",
            "idx is equal to 5\n"
          ],
          "name": "stdout"
        }
      ]
    },
    {
      "cell_type": "markdown",
      "metadata": {
        "id": "ZRpG45DSPYgt",
        "colab_type": "text"
      },
      "source": [
        "Lists are not the only kinds of objects that can be iterated over (also known as an iterable). A special kind of object, called a generator, does not explicitly store every single value in memory, but instead stores the current value, and the rule to generate the next value. This can often be faster than explicitly storing every element.\n",
        "\n",
        "As an analogy, if you wanted to send to your friend the following sequence of numbers: [1, 3, 5, 7, 9, 11, 13, 15, 17, 19, 21, 23, 25, 27, 29, 31, 33, 35, 37, 39, 41, 43, 45, 47, 49, 51, 53, 55, 57, 59], you could write each number down and send them the entire list. Or you could write \"the sequence of numbers starting at 1, increasing by 2, but less than 60\"\n",
        "\n",
        "If the sequence is very long, then the second representation becomes preferable to write, because you don't need to explicitly write out every single element. One common generator that is used in python is `range(start, end, increment)`, which creates a generator that produces the sequence of numbers starting at `start`, increments by `increment`, and is less than (__but not equal to__) `end`.  If `increment` is not set, it defaults to 1.\n",
        "\n",
        "This is often used in conjunction with iteration:"
      ]
    },
    {
      "cell_type": "code",
      "metadata": {
        "id": "JL8HijzxPWeN",
        "colab_type": "code",
        "outputId": "3388905a-273b-4f96-9e6d-5437482f8a98",
        "colab": {
          "base_uri": "https://localhost:8080/",
          "height": 129
        }
      },
      "source": [
        "for idx in range(0,6): #equivalent to the above\n",
        "  print('idx is equal to {}'.format(idx)) # print the current value of idx"
      ],
      "execution_count": 31,
      "outputs": [
        {
          "output_type": "stream",
          "text": [
            "idx is equal to 0\n",
            "idx is equal to 1\n",
            "idx is equal to 2\n",
            "idx is equal to 3\n",
            "idx is equal to 4\n",
            "idx is equal to 5\n"
          ],
          "name": "stdout"
        }
      ]
    },
    {
      "cell_type": "code",
      "metadata": {
        "id": "qwbL0GxA2NnZ",
        "colab_type": "code",
        "colab": {
          "base_uri": "https://localhost:8080/",
          "height": 129
        },
        "outputId": "94c3884d-6daf-46e5-cc0b-15dc08ded3bd"
      },
      "source": [
        "for idx in range(6): # if you only give one argument, it automatically starts from 0\n",
        "  print('idx is equal to {}'.format(idx)) # print the current value of idx"
      ],
      "execution_count": 32,
      "outputs": [
        {
          "output_type": "stream",
          "text": [
            "idx is equal to 0\n",
            "idx is equal to 1\n",
            "idx is equal to 2\n",
            "idx is equal to 3\n",
            "idx is equal to 4\n",
            "idx is equal to 5\n"
          ],
          "name": "stdout"
        }
      ]
    },
    {
      "cell_type": "markdown",
      "metadata": {
        "id": "MQdQLzlFfTxD",
        "colab_type": "text"
      },
      "source": [
        "### Conditionals\n",
        "Sometimes you want to execute code only if certain conditions are met. The `if`, `elif` (short for else-if), and `else` keywords are used for this purpose"
      ]
    },
    {
      "cell_type": "code",
      "metadata": {
        "id": "AErHQm2wfUJ-",
        "colab_type": "code",
        "colab": {
          "base_uri": "https://localhost:8080/",
          "height": 111
        },
        "outputId": "a31bbbac-407f-45c4-b2a9-db255ac658b5"
      },
      "source": [
        "for idx in range(1,6):\n",
        "  if idx > 2 : # only execute the following indented block of code if idx is greater than 2\n",
        "    print('idx={}, which is greater than 2'.format(idx))\n",
        "  elif idx == 2: # only execute if the above condition isn't met, and also idx==2\n",
        "  # note that == is used to check for equality; single = is the assignment operator\n",
        "    print('idx={} is equal to 2'.format(idx)) \n",
        "  else: # execute this code if none of the above conditions are met\n",
        "    print('idx={} is less than 2'.format(idx))"
      ],
      "execution_count": 34,
      "outputs": [
        {
          "output_type": "stream",
          "text": [
            "idx=1 is less than 2\n",
            "idx=2 is equal to 2\n",
            "idx=3, which is greater than 2\n",
            "idx=4, which is greater than 2\n",
            "idx=5, which is greater than 2\n"
          ],
          "name": "stdout"
        }
      ]
    },
    {
      "cell_type": "markdown",
      "metadata": {
        "id": "xQAVoJ1G9KYX",
        "colab_type": "text"
      },
      "source": [
        "You can combine different conditions using the keywords `and` and `or`, and negate conditions using `not`"
      ]
    },
    {
      "cell_type": "code",
      "metadata": {
        "id": "SOFosKF49UzB",
        "colab_type": "code",
        "colab": {}
      },
      "source": [
        ""
      ],
      "execution_count": 0,
      "outputs": []
    },
    {
      "cell_type": "markdown",
      "metadata": {
        "id": "_86EnzJ86VRX",
        "colab_type": "text"
      },
      "source": [
        "### List comprehension\n",
        "\n",
        "You can generate a list from any iterable in a couple ways. This is called list comprehension.\n",
        "\n",
        "The simplest way is just to call `list()` on the generator object"
      ]
    },
    {
      "cell_type": "code",
      "metadata": {
        "id": "4RXzlU3v2ouq",
        "colab_type": "code",
        "colab": {
          "base_uri": "https://localhost:8080/",
          "height": 36
        },
        "outputId": "51c83373-978b-44e8-933a-1ed44c829b30"
      },
      "source": [
        "list(range(6))"
      ],
      "execution_count": 33,
      "outputs": [
        {
          "output_type": "execute_result",
          "data": {
            "text/plain": [
              "[0, 1, 2, 3, 4, 5]"
            ]
          },
          "metadata": {
            "tags": []
          },
          "execution_count": 33
        }
      ]
    },
    {
      "cell_type": "markdown",
      "metadata": {
        "id": "FwHMdFXo6kTU",
        "colab_type": "text"
      },
      "source": [
        "Another way is using the following syntax:\n",
        "\n",
        "```\n",
        "[x for x in iterable]\n",
        "```\n",
        "for example:"
      ]
    },
    {
      "cell_type": "code",
      "metadata": {
        "id": "HyBFG1T16UX8",
        "colab_type": "code",
        "colab": {
          "base_uri": "https://localhost:8080/",
          "height": 36
        },
        "outputId": "cb1e41df-f86c-4bba-ab2b-8f15bc221a88"
      },
      "source": [
        "list_of_numbers = [x for x in range(6)]\n",
        "print(list_of_numbers)"
      ],
      "execution_count": 42,
      "outputs": [
        {
          "output_type": "execute_result",
          "data": {
            "text/plain": [
              "[0, 1, 2, 3, 4, 5]"
            ]
          },
          "metadata": {
            "tags": []
          },
          "execution_count": 42
        }
      ]
    },
    {
      "cell_type": "markdown",
      "metadata": {
        "id": "vOQBvnHH69LF",
        "colab_type": "text"
      },
      "source": [
        "However, the list comprehension syntax is actually more powerful than that: it allows for functions to be called within the expression\n",
        "```\n",
        "[expression(x) for x in iterable]\n",
        "```"
      ]
    },
    {
      "cell_type": "code",
      "metadata": {
        "id": "08Z_-RIm7X10",
        "colab_type": "code",
        "colab": {
          "base_uri": "https://localhost:8080/",
          "height": 36
        },
        "outputId": "e7fe7125-d4d0-4852-e815-2332471bd839"
      },
      "source": [
        "list_of_first_five_squares = [x**2 for x in range(6)] # the double star ** expression denotes exponentiation\n",
        "# hence, the above gives the first 5 square numbers, including zero\n",
        "print(list_of_first_five_squares)"
      ],
      "execution_count": 43,
      "outputs": [
        {
          "output_type": "execute_result",
          "data": {
            "text/plain": [
              "[0, 1, 4, 9, 16, 25]"
            ]
          },
          "metadata": {
            "tags": []
          },
          "execution_count": 43
        }
      ]
    },
    {
      "cell_type": "markdown",
      "metadata": {
        "id": "hGn3HhxP7vPs",
        "colab_type": "text"
      },
      "source": [
        "In fact, the list comprehension syntax is even more powerful: it can also include conditional statements\n",
        "```\n",
        "[expression(x) for x in iterable if condition]\n",
        "```"
      ]
    },
    {
      "cell_type": "code",
      "metadata": {
        "id": "uRQy9G6j8KIk",
        "colab_type": "code",
        "colab": {
          "base_uri": "https://localhost:8080/",
          "height": 36
        },
        "outputId": "513e8b0a-edaa-4954-8d27-ed87855b8c83"
      },
      "source": [
        "list_of_first_few_odd_squares = [x**2 for x in range(10) if np.mod(x,2) == 1] \n",
        "print(list_of_first_few_odd_squares)"
      ],
      "execution_count": 46,
      "outputs": [
        {
          "output_type": "stream",
          "text": [
            "[1, 9, 25, 49, 81]\n"
          ],
          "name": "stdout"
        }
      ]
    },
    {
      "cell_type": "markdown",
      "metadata": {
        "id": "coaXDh3Q3Oo4",
        "colab_type": "text"
      },
      "source": [
        "## Functions\n",
        "Functions are a way to repeat the same lines of code, potentially with different inputs. If you find yourself writing a lot of repetitive code that shares the same structure, you may want to try and formulate it as a function. Functions are declared using the `def` keyword. In this example, we will write a function that checks if a number is prime.\n"
      ]
    },
    {
      "cell_type": "code",
      "metadata": {
        "id": "q3bNz4Bn4LtT",
        "colab_type": "code",
        "colab": {}
      },
      "source": [
        "def is_prime(number):\n",
        "  sqrt_num = int(np.sqrt(number)) # we only need to check integer factors up to the square root of the number, rounded down (int() always rounds down)\n",
        "  for potential_factor in range(2,sqrt_num+1): #range(a,b) iterates from the value a to b-1\n",
        "    if np.mod(number, potential_factor) == 0: #np.mod() is the modulo (aka remainder) function; thus, if the remainder is zero, then it divides evenly\n",
        "      return False # if it divides evenly, then it's not prime, then we can return and end the function\n",
        "  return True #if we get through all of the potential factors and haven't found a factor, then it's prime\n",
        "  "
      ],
      "execution_count": 0,
      "outputs": []
    },
    {
      "cell_type": "code",
      "metadata": {
        "id": "j1lbrTdR5Igp",
        "colab_type": "code",
        "outputId": "1d805f46-7b2f-4326-ca90-6360767c65fa",
        "colab": {
          "base_uri": "https://localhost:8080/",
          "height": 36
        }
      },
      "source": [
        "is_prime(101.0)"
      ],
      "execution_count": 36,
      "outputs": [
        {
          "output_type": "execute_result",
          "data": {
            "text/plain": [
              "True"
            ]
          },
          "metadata": {
            "tags": []
          },
          "execution_count": 36
        }
      ]
    },
    {
      "cell_type": "markdown",
      "metadata": {
        "id": "imLdWDBqHLsb",
        "colab_type": "text"
      },
      "source": [
        "## Data structures"
      ]
    },
    {
      "cell_type": "markdown",
      "metadata": {
        "id": "HFVQ3EpTym-B",
        "colab_type": "text"
      },
      "source": [
        "### Lists\n",
        "We already looked at one python data structure: the list. Lists are _ordered_ collections of values, denoted with square brackets. \n",
        "\n",
        "Lists are _ordered_ in the sense that the order of their elements matter. The list [1,2,3,4] is not the same as [4,3,2,1]"
      ]
    },
    {
      "cell_type": "code",
      "metadata": {
        "id": "5xwkgkHR26F2",
        "colab_type": "code",
        "colab": {
          "base_uri": "https://localhost:8080/",
          "height": 111
        },
        "outputId": "017218c2-1290-417e-d0c9-e5680ea22cc5"
      },
      "source": [
        "a_list = [2,0,15,5] # square brackets denote a list\n",
        "another_list = [15,0,5,2]\n",
        "print('a_list = {}; another_list = {}'.format(a_list, another_list)) # the .format() function of strings allows you to plug in the variable values in the respective curly braces {}\n",
        "\n",
        "print('is a_list equal to another_list?')\n",
        "print(a_list == another_list) # print out the truth value of whether a_list is the same as another_list (it shouldn't be, because they have different ordering)\n",
        "\n",
        "yet_another_list = [2,0,15,5]\n",
        "print('but it is equal to yet_another_list:')\n",
        "print(a_list == yet_another_list)"
      ],
      "execution_count": 38,
      "outputs": [
        {
          "output_type": "stream",
          "text": [
            "a_list = [2, 0, 15, 5]; another_list = [15, 0, 5, 2]\n",
            "is a_list equal to another_list?\n",
            "False\n",
            "but it is equal to yet_another_list\n",
            "True\n"
          ],
          "name": "stdout"
        }
      ]
    },
    {
      "cell_type": "markdown",
      "metadata": {
        "id": "vNEUNwmP3k2u",
        "colab_type": "text"
      },
      "source": [
        "List elements can be any python object, including strings, numbers, and other lists"
      ]
    },
    {
      "cell_type": "code",
      "metadata": {
        "id": "iU9e_qCh3gRb",
        "colab_type": "code",
        "colab": {
          "base_uri": "https://localhost:8080/",
          "height": 54
        },
        "outputId": "a18917aa-19ca-4a66-9486-c0ade3af8206"
      },
      "source": [
        "diverse_list = ['a', False, [0,0,0], 1.0, 10]\n",
        "print('the elements of diverse_list are: {}'.format(diverse_list))\n",
        "print('the data types of the elements are {}'.format([type(x) for x in diverse_list])) # using list comprehension to get the type of each element"
      ],
      "execution_count": 29,
      "outputs": [
        {
          "output_type": "stream",
          "text": [
            "the elements of diverse_list are: ['a', False, [0, 0, 0], 1.0, 10]\n",
            "the data types of the elements are [<class 'str'>, <class 'bool'>, <class 'list'>, <class 'float'>, <class 'int'>]\n"
          ],
          "name": "stdout"
        }
      ]
    },
    {
      "cell_type": "markdown",
      "metadata": {
        "id": "Ybkqbv8k3kKQ",
        "colab_type": "text"
      },
      "source": [
        "You can access a specific element of a list using the square bracket notation (this is known as indexing)\n",
        "```\n",
        "list_name[idx]\n",
        "```\n",
        "Index values can be negative, which start counting from the end. So `list_name[-1]` gives the __last__ element of the list"
      ]
    },
    {
      "cell_type": "code",
      "metadata": {
        "id": "PkC6JcEM5fmq",
        "colab_type": "code",
        "colab": {
          "base_uri": "https://localhost:8080/",
          "height": 54
        },
        "outputId": "4cecd06b-6084-4a77-ce9e-8da480da1636"
      },
      "source": [
        "first_element_of_diverse_list = diverse_list[0] # python starts counting at 0, so the first element is at index 0\n",
        "print(first_element_of_diverse_list)\n",
        "last_element_of_diverse_list = diverse_list[-1]\n",
        "print(last_element_of_diverse_list)"
      ],
      "execution_count": 17,
      "outputs": [
        {
          "output_type": "stream",
          "text": [
            "a\n",
            "10\n"
          ],
          "name": "stdout"
        }
      ]
    },
    {
      "cell_type": "markdown",
      "metadata": {
        "id": "MQAwMo3NFBZV",
        "colab_type": "text"
      },
      "source": [
        "You can \"slice\" a list using the colon `:` notation\n",
        "```\n",
        "list_name[start_idx:end_idx]\n",
        "```\n",
        "Note that the slice starts at the start_idx, but __does not include__ the element at end_idx.\n",
        "\n",
        "If you omit either start_idx or end_idx, it automatically starts at the first element/ends at the last element respectively"
      ]
    },
    {
      "cell_type": "code",
      "metadata": {
        "id": "vSpmioyI5yDG",
        "colab_type": "code",
        "colab": {
          "base_uri": "https://localhost:8080/",
          "height": 92
        },
        "outputId": "424a1e38-df27-49fd-f63c-cccd9af9f535"
      },
      "source": [
        "print(diverse_list[0:2]) # gets the elements at index 0 and 1\n",
        "print(diverse_list[:2]) # equivalent to the above\n",
        "print(diverse_list[2:]) # gets all elements from index 2 to the end\n",
        "print(diverse_list[:]) # gets all elements"
      ],
      "execution_count": 18,
      "outputs": [
        {
          "output_type": "stream",
          "text": [
            "['a', False]\n",
            "['a', False]\n",
            "[[0, 0, 0], 1.0, 10]\n",
            "['a', False, [0, 0, 0], 1.0, 10]\n"
          ],
          "name": "stdout"
        }
      ]
    },
    {
      "cell_type": "markdown",
      "metadata": {
        "id": "yPT65DLtImb_",
        "colab_type": "text"
      },
      "source": [
        ""
      ]
    },
    {
      "cell_type": "markdown",
      "metadata": {
        "id": "9Ca6c2N1IHcJ",
        "colab_type": "text"
      },
      "source": [
        "Lists are modifiable: you can append and delete entries, as well as change the values of elements"
      ]
    },
    {
      "cell_type": "code",
      "metadata": {
        "id": "B2VzVRo05oL9",
        "colab_type": "code",
        "colab": {
          "base_uri": "https://localhost:8080/",
          "height": 111
        },
        "outputId": "075aa7e4-d3e4-4049-d17c-2697c9ce6818"
      },
      "source": [
        "diverse_list.append('new entry') # add a value to the end\n",
        "print('appended an entry to diverse_list: {}'.format(diverse_list))\n",
        "diverse_list[0] = 'changed entry' # change the value of entry at index 0\n",
        "print('changed an entry of diverse_list: {}'.format(diverse_list))\n",
        "first_entry = diverse_list.pop(0) # remove (and return) the value at element 0\n",
        "print('removed \"{}\" from diverse_list: {}'.format(first_entry, diverse_list))\n",
        "diverse_list.remove('new entry') # you can also remove the first entry with a specific value, in this case, the \"new entry\"\n",
        "print('removed \"new entry\" from diverse_list: {}'.format(diverse_list))\n",
        "diverse_list.insert(0,'a') # insert the value 'a' at index 0\n",
        "print('inserted \"a\" back into diverse_list: {}'.format(diverse_list))"
      ],
      "execution_count": 30,
      "outputs": [
        {
          "output_type": "stream",
          "text": [
            "appended an entry to diverse_list: ['a', False, [0, 0, 0], 1.0, 10, 'new entry']\n",
            "changed an entry of diverse_list: ['changed entry', False, [0, 0, 0], 1.0, 10, 'new entry']\n",
            "removed \"changed entry\" from diverse_list: [False, [0, 0, 0], 1.0, 10, 'new entry']\n",
            "removed \"new entry\" from diverse_list: [False, [0, 0, 0], 1.0, 10]\n",
            "inserted \"a\" back into diverse_list: ['a', False, [0, 0, 0], 1.0, 10]\n"
          ],
          "name": "stdout"
        }
      ]
    },
    {
      "cell_type": "markdown",
      "metadata": {
        "id": "TlsLwdx-LEi0",
        "colab_type": "text"
      },
      "source": [
        "### Tuples\n",
        "Tuples are unchangeable, ordered sequences of elements, grouped with regular parentheses:\n",
        "```\n",
        "('a','b','c')\n",
        "```"
      ]
    },
    {
      "cell_type": "code",
      "metadata": {
        "id": "9PPsnkeMLRsG",
        "colab_type": "code",
        "colab": {
          "base_uri": "https://localhost:8080/",
          "height": 36
        },
        "outputId": "5cd102c1-00fc-4bd8-ca69-c5149e228065"
      },
      "source": [
        "a_tuple = ('a','b','c')\n",
        "print('the first element of a_tuple is \"{}\"'.format(a_tuple[0])) # tuples can be indexed like lists"
      ],
      "execution_count": 38,
      "outputs": [
        {
          "output_type": "stream",
          "text": [
            "the first element of a_tuple is \"a\"\n"
          ],
          "name": "stdout"
        }
      ]
    },
    {
      "cell_type": "code",
      "metadata": {
        "id": "i71bNiQ3LhH1",
        "colab_type": "code",
        "colab": {
          "base_uri": "https://localhost:8080/",
          "height": 175
        },
        "outputId": "1c44d6b2-12dd-4a58-ea18-e94c4ecc0745"
      },
      "source": [
        "a_tuple[0] = 10 # however, unlike lists, you cannot change their values once they are set"
      ],
      "execution_count": 36,
      "outputs": [
        {
          "output_type": "error",
          "ename": "TypeError",
          "evalue": "ignored",
          "traceback": [
            "\u001b[0;31m---------------------------------------------------------------------------\u001b[0m",
            "\u001b[0;31mTypeError\u001b[0m                                 Traceback (most recent call last)",
            "\u001b[0;32m<ipython-input-36-e313b727bd72>\u001b[0m in \u001b[0;36m<module>\u001b[0;34m()\u001b[0m\n\u001b[0;32m----> 1\u001b[0;31m \u001b[0ma_tuple\u001b[0m\u001b[0;34m[\u001b[0m\u001b[0;36m0\u001b[0m\u001b[0;34m]\u001b[0m \u001b[0;34m=\u001b[0m \u001b[0;36m10\u001b[0m \u001b[0;31m# however, unlike lists, you cannot change their values once they are set\u001b[0m\u001b[0;34m\u001b[0m\u001b[0;34m\u001b[0m\u001b[0m\n\u001b[0m",
            "\u001b[0;31mTypeError\u001b[0m: 'tuple' object does not support item assignment"
          ]
        }
      ]
    },
    {
      "cell_type": "markdown",
      "metadata": {
        "id": "L1gZ35gMGjYy",
        "colab_type": "text"
      },
      "source": [
        "### Dictionaries\n",
        "Dictionaries are data structures that store _mappings_ from \"keys\" to respective \"values\". You can think of them as lookup tables which return a specific value for a given key. For example, an english dictionary (the book) could be stored as a python dictionary, where the \"keys\" are each of the words in english, and the \"values\" are the respective definitions.\n",
        "\n",
        "They are defined using the curly braces, or the `dict()` function:\n",
        "```\n",
        "dictionary = {key: value, key2: value2}\n",
        "dictionary = dict([(key, value),(key2, value2)])\n",
        "```\n",
        "\n",
        "Keys can be a variety of data types, including numeric, strings, and tuples. However, they cannot be changeable objects, such as lists, or other dictionaries. Values, on the other hand, can be any data type.\n",
        "\n",
        "Accessing the dictionary values are done using square brackets using the syntax:\n",
        "```\n",
        "dictionary[key] # returns the value associated with key\n",
        "```"
      ]
    },
    {
      "cell_type": "code",
      "metadata": {
        "id": "IYd9jDjNF_cM",
        "colab_type": "code",
        "colab": {
          "base_uri": "https://localhost:8080/",
          "height": 36
        },
        "outputId": "324ccbcc-b93e-419f-873c-f00617233340"
      },
      "source": [
        "pokemon_types = {'bulbasaur':'grass', 'charmander':'fire', 'squirtle':'water'}\n",
        "print(pokemon_types['bulbasaur'])"
      ],
      "execution_count": 41,
      "outputs": [
        {
          "output_type": "stream",
          "text": [
            "grass\n"
          ],
          "name": "stdout"
        }
      ]
    },
    {
      "cell_type": "markdown",
      "metadata": {
        "id": "O3x-7mBXOBwo",
        "colab_type": "text"
      },
      "source": [
        "You can add or change an element to a dictionary using the following syntax:\n",
        "```\n",
        "dictionary[key] = value\n",
        "```"
      ]
    },
    {
      "cell_type": "code",
      "metadata": {
        "id": "mT6If7e3Mf6T",
        "colab_type": "code",
        "colab": {
          "base_uri": "https://localhost:8080/",
          "height": 36
        },
        "outputId": "7a8751cc-67f9-432f-c10b-e4956b6b56f7"
      },
      "source": [
        "pokemon_types['bulbasaur'] = 'grass/poison' #bulbasaur is actually dual typed, so we'll change its entry\n",
        "pokemon_types['ivysaur'] = 'grass/poison' #let's add an evolution\n",
        "print(pokemon_types)"
      ],
      "execution_count": 43,
      "outputs": [
        {
          "output_type": "stream",
          "text": [
            "{'bulbasaur': 'grass/poison', 'charmander': 'fire', 'squirtle': 'water', 'ivysaur': 'grass/poison'}\n"
          ],
          "name": "stdout"
        }
      ]
    },
    {
      "cell_type": "markdown",
      "metadata": {
        "id": "DsmMgEJkP-jD",
        "colab_type": "text"
      },
      "source": [
        "You can get a list of all of the keys to a dictionary using the `.keys()` function, similarly with the `.values()` function."
      ]
    },
    {
      "cell_type": "code",
      "metadata": {
        "id": "t1YzvPgZPSJ7",
        "colab_type": "code",
        "colab": {
          "base_uri": "https://localhost:8080/",
          "height": 54
        },
        "outputId": "1967f93a-5296-4d0b-8a18-37b2585ceadb"
      },
      "source": [
        "print(pokemon_types.keys())\n",
        "print(pokemon_types.values())"
      ],
      "execution_count": 56,
      "outputs": [
        {
          "output_type": "stream",
          "text": [
            "dict_keys(['bulbasaur', 'charmander', 'squirtle', 'ivysaur'])\n",
            "dict_values(['grass/poison', 'fire', 'water', 'grass/poison'])\n"
          ],
          "name": "stdout"
        }
      ]
    },
    {
      "cell_type": "markdown",
      "metadata": {
        "id": "JDsPF181P-9S",
        "colab_type": "text"
      },
      "source": [
        "You can use the function `.items()` to get a list of `(key, value)` tuples. This is often useful for looping"
      ]
    },
    {
      "cell_type": "code",
      "metadata": {
        "id": "5ChknNaURRif",
        "colab_type": "code",
        "colab": {
          "base_uri": "https://localhost:8080/",
          "height": 92
        },
        "outputId": "e5c000be-9856-4747-8950-8964bec868e8"
      },
      "source": [
        "for k, v in pokemon_types.items():\n",
        "  print('the type of {} is {}'.format(k,v))"
      ],
      "execution_count": 55,
      "outputs": [
        {
          "output_type": "stream",
          "text": [
            "the type of bulbasaur is grass/poison\n",
            "the type of charmander is fire\n",
            "the type of squirtle is water\n",
            "the type of ivysaur is grass/poison\n"
          ],
          "name": "stdout"
        }
      ]
    },
    {
      "cell_type": "markdown",
      "metadata": {
        "id": "1c4eGuaoaauc",
        "colab_type": "text"
      },
      "source": [
        "## Reading files"
      ]
    },
    {
      "cell_type": "code",
      "metadata": {
        "id": "28eY_DrOSGtz",
        "colab_type": "code",
        "colab": {}
      },
      "source": [
        ""
      ],
      "execution_count": 0,
      "outputs": []
    },
    {
      "cell_type": "markdown",
      "metadata": {
        "id": "Ku4Uchk2TPMk",
        "colab_type": "text"
      },
      "source": [
        "# Numpy\n",
        "Numpy is a package for python which provides various tools to make math and numerical computation much easier. One of the key components is the numpy array, which enables matrices."
      ]
    },
    {
      "cell_type": "markdown",
      "metadata": {
        "id": "dDPk0KtdVTyr",
        "colab_type": "text"
      },
      "source": [
        "## numpy arrays\n",
        "numpy arrays provide the ability to create matrices, which are essentially 2-dimensional lists. (They can also be used to create even higher-dimensional arrays: tensors, etc)\n",
        "Unlike python lists, numpy arrays must all have the same data type (e.g. numeric, string). \n",
        "\n",
        "Arrays can be created from python lists:"
      ]
    },
    {
      "cell_type": "code",
      "metadata": {
        "id": "Y-y3R960TRzi",
        "colab_type": "code",
        "colab": {
          "base_uri": "https://localhost:8080/",
          "height": 111
        },
        "outputId": "5e451047-62ef-498a-a0f1-faa51021abde"
      },
      "source": [
        "print('a vector can be created from a list {}'.format(np.array([1, 4, 2, 5, 3])))\n",
        "print('a matrix can be created from a list of lists:\\n {}'.format(np.array([[1,1,1],[2,2,2],[3,3,3]]))) #\\n is the newline character and makes the following text appear on the next line"
      ],
      "execution_count": 84,
      "outputs": [
        {
          "output_type": "stream",
          "text": [
            "a vector can be created from a list [1 4 2 5 3]\n",
            "a matrix can be created from a list of lists:\n",
            " [[1 1 1]\n",
            " [2 2 2]\n",
            " [3 3 3]]\n"
          ],
          "name": "stdout"
        }
      ]
    },
    {
      "cell_type": "markdown",
      "metadata": {
        "id": "NqBFDOaqTSYt",
        "colab_type": "text"
      },
      "source": [
        "There are also a bunch of built-in functions for generating arrays. "
      ]
    },
    {
      "cell_type": "code",
      "metadata": {
        "id": "16ADGYQ1X3ED",
        "colab_type": "code",
        "colab": {
          "base_uri": "https://localhost:8080/",
          "height": 324
        },
        "outputId": "bafa8d34-c911-4cf4-981d-09df26ca8c54"
      },
      "source": [
        ""
      ],
      "execution_count": 86,
      "outputs": [
        {
          "output_type": "error",
          "ename": "ValueError",
          "evalue": "ignored",
          "traceback": [
            "\u001b[0;31m---------------------------------------------------------------------------\u001b[0m",
            "\u001b[0;31mValueError\u001b[0m                                Traceback (most recent call last)",
            "\u001b[0;32m<ipython-input-86-bdb2a876c763>\u001b[0m in \u001b[0;36m<module>\u001b[0;34m()\u001b[0m\n\u001b[0;32m----> 1\u001b[0;31m \u001b[0mnp\u001b[0m\u001b[0;34m.\u001b[0m\u001b[0mcross\u001b[0m\u001b[0;34m(\u001b[0m\u001b[0mnp\u001b[0m\u001b[0;34m.\u001b[0m\u001b[0marray\u001b[0m\u001b[0;34m(\u001b[0m\u001b[0;34m[\u001b[0m\u001b[0;36m1\u001b[0m\u001b[0;34m,\u001b[0m \u001b[0;36m4\u001b[0m\u001b[0;34m,\u001b[0m \u001b[0;36m2\u001b[0m\u001b[0;34m,\u001b[0m \u001b[0;36m5\u001b[0m\u001b[0;34m,\u001b[0m \u001b[0;36m3\u001b[0m\u001b[0;34m]\u001b[0m\u001b[0;34m)\u001b[0m\u001b[0;34m,\u001b[0m\u001b[0mnp\u001b[0m\u001b[0;34m.\u001b[0m\u001b[0marray\u001b[0m\u001b[0;34m(\u001b[0m\u001b[0;34m[\u001b[0m\u001b[0;36m1\u001b[0m\u001b[0;34m,\u001b[0m \u001b[0;36m4\u001b[0m\u001b[0;34m,\u001b[0m \u001b[0;36m2\u001b[0m\u001b[0;34m,\u001b[0m \u001b[0;36m5\u001b[0m\u001b[0;34m,\u001b[0m \u001b[0;36m3\u001b[0m\u001b[0;34m]\u001b[0m\u001b[0;34m)\u001b[0m\u001b[0;34m.\u001b[0m\u001b[0mT\u001b[0m\u001b[0;34m)\u001b[0m\u001b[0;34m\u001b[0m\u001b[0;34m\u001b[0m\u001b[0m\n\u001b[0m",
            "\u001b[0;32m/usr/local/lib/python3.6/dist-packages/numpy/core/numeric.py\u001b[0m in \u001b[0;36mcross\u001b[0;34m(a, b, axisa, axisb, axisc, axis)\u001b[0m\n\u001b[1;32m   1827\u001b[0m            \"(dimension must be 2 or 3)\")\n\u001b[1;32m   1828\u001b[0m     \u001b[0;32mif\u001b[0m \u001b[0ma\u001b[0m\u001b[0;34m.\u001b[0m\u001b[0mshape\u001b[0m\u001b[0;34m[\u001b[0m\u001b[0;34m-\u001b[0m\u001b[0;36m1\u001b[0m\u001b[0;34m]\u001b[0m \u001b[0;32mnot\u001b[0m \u001b[0;32min\u001b[0m \u001b[0;34m(\u001b[0m\u001b[0;36m2\u001b[0m\u001b[0;34m,\u001b[0m \u001b[0;36m3\u001b[0m\u001b[0;34m)\u001b[0m \u001b[0;32mor\u001b[0m \u001b[0mb\u001b[0m\u001b[0;34m.\u001b[0m\u001b[0mshape\u001b[0m\u001b[0;34m[\u001b[0m\u001b[0;34m-\u001b[0m\u001b[0;36m1\u001b[0m\u001b[0;34m]\u001b[0m \u001b[0;32mnot\u001b[0m \u001b[0;32min\u001b[0m \u001b[0;34m(\u001b[0m\u001b[0;36m2\u001b[0m\u001b[0;34m,\u001b[0m \u001b[0;36m3\u001b[0m\u001b[0;34m)\u001b[0m\u001b[0;34m:\u001b[0m\u001b[0;34m\u001b[0m\u001b[0;34m\u001b[0m\u001b[0m\n\u001b[0;32m-> 1829\u001b[0;31m         \u001b[0;32mraise\u001b[0m \u001b[0mValueError\u001b[0m\u001b[0;34m(\u001b[0m\u001b[0mmsg\u001b[0m\u001b[0;34m)\u001b[0m\u001b[0;34m\u001b[0m\u001b[0;34m\u001b[0m\u001b[0m\n\u001b[0m\u001b[1;32m   1830\u001b[0m \u001b[0;34m\u001b[0m\u001b[0m\n\u001b[1;32m   1831\u001b[0m     \u001b[0;31m# Create the output array\u001b[0m\u001b[0;34m\u001b[0m\u001b[0;34m\u001b[0m\u001b[0;34m\u001b[0m\u001b[0m\n",
            "\u001b[0;31mValueError\u001b[0m: incompatible dimensions for cross product\n(dimension must be 2 or 3)"
          ]
        }
      ]
    },
    {
      "cell_type": "code",
      "metadata": {
        "id": "9RQ_l2hdX7iG",
        "colab_type": "code",
        "colab": {}
      },
      "source": [
        ""
      ],
      "execution_count": 0,
      "outputs": []
    }
  ]
}